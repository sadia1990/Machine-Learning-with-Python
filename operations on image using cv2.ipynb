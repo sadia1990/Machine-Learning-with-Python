{
 "cells": [
  {
   "cell_type": "code",
   "execution_count": 114,
   "id": "bd103d73-6c01-4528-84ed-5fa986b6feb4",
   "metadata": {},
   "outputs": [
    {
     "name": "stdout",
     "output_type": "stream",
     "text": [
      "Requirement already satisfied: opencv-python in c:\\users\\admin\\anaconda3\\lib\\site-packages (4.10.0.84)\n",
      "Requirement already satisfied: numpy>=1.21.2 in c:\\users\\admin\\anaconda3\\lib\\site-packages (from opencv-python) (1.26.4)\n"
     ]
    }
   ],
   "source": [
    "! pip install opencv-python\n",
    "import cv2\n",
    "import numpy as np"
   ]
  },
  {
   "cell_type": "code",
   "execution_count": 117,
   "id": "838b1d47-2f5d-4dd1-bcb1-bbd1ab778e24",
   "metadata": {},
   "outputs": [
    {
     "data": {
      "text/plain": [
       "array([[[248, 248, 248],\n",
       "        [248, 248, 248],\n",
       "        [248, 248, 248],\n",
       "        ...,\n",
       "        [246, 246, 252],\n",
       "        [246, 246, 252],\n",
       "        [246, 246, 252]],\n",
       "\n",
       "       [[248, 248, 248],\n",
       "        [248, 248, 248],\n",
       "        [248, 248, 248],\n",
       "        ...,\n",
       "        [247, 247, 253],\n",
       "        [247, 247, 253],\n",
       "        [247, 247, 253]],\n",
       "\n",
       "       [[248, 248, 248],\n",
       "        [248, 248, 248],\n",
       "        [248, 248, 248],\n",
       "        ...,\n",
       "        [221, 221, 227],\n",
       "        [221, 221, 227],\n",
       "        [221, 221, 227]],\n",
       "\n",
       "       ...,\n",
       "\n",
       "       [[ 31,  42,  72],\n",
       "        [ 36,  48,  76],\n",
       "        [ 41,  53,  81],\n",
       "        ...,\n",
       "        [ 85,  74,  66],\n",
       "        [ 80,  68,  58],\n",
       "        [ 73,  60,  52]],\n",
       "\n",
       "       [[ 36,  48,  76],\n",
       "        [ 45,  58,  84],\n",
       "        [ 39,  52,  78],\n",
       "        ...,\n",
       "        [ 64,  52,  46],\n",
       "        [ 65,  52,  44],\n",
       "        [ 65,  51,  45]],\n",
       "\n",
       "       [[ 31,  44,  70],\n",
       "        [ 35,  49,  72],\n",
       "        [ 33,  47,  70],\n",
       "        ...,\n",
       "        [ 61,  49,  45],\n",
       "        [ 69,  55,  49],\n",
       "        [ 75,  60,  57]]], dtype=uint8)"
      ]
     },
     "execution_count": 117,
     "metadata": {},
     "output_type": "execute_result"
    }
   ],
   "source": [
    "image=cv2.imread(r\"C:\\Users\\admin\\Downloads\\demo_face.jpg\")\n",
    "image\n",
    "#image.ndim, .shape, .size"
   ]
  },
  {
   "cell_type": "code",
   "execution_count": 118,
   "id": "590520ec-9ab7-4e36-8d11-1ca86edd3932",
   "metadata": {},
   "outputs": [],
   "source": [
    "cv2.imshow(r\"C:\\Users\\admin\\Downloads\\demo_face.jpg\", image)\n",
    "cv2.waitKey(0) # 100,1000, 10000\n",
    "cv2.destroyAllWindows()"
   ]
  },
  {
   "cell_type": "markdown",
   "id": "f57beb49-3ecd-4b1f-a96b-ba7b78b2ac19",
   "metadata": {},
   "source": [
    "# Excercise 2- Image filter"
   ]
  },
  {
   "cell_type": "code",
   "execution_count": null,
   "id": "ebd52b97-0a7c-442e-9e39-365d5c9e8ab2",
   "metadata": {},
   "outputs": [],
   "source": [
    "if image is None:\n",
    "    print('Could not read image')\n",
    "\n",
    "#Apply identity kernel\n",
    "kernel1=np.array([[0.2,0,0],\n",
    "                  [0,0.2,0],\n",
    "                  [0,0,0.2]])"
   ]
  },
  {
   "cell_type": "code",
   "execution_count": 119,
   "id": "03440eac-bdb8-4fdf-8c98-086d5b36433f",
   "metadata": {},
   "outputs": [],
   "source": [
    "identity=cv2.filter2D(src=image, ddepth=-1,kernel=kernel1)\n",
    "cv2.imshow('Og',image)\n",
    "cv2.imshow('identity',identity)\n",
    "cv2.waitKey()\n",
    "cv2.imwrite('identity.jpg', identity)\n",
    "cv2.destroyAllWindows()"
   ]
  },
  {
   "cell_type": "code",
   "execution_count": 109,
   "id": "588e2e5d-acda-4cc8-81db-1b8af75f8b09",
   "metadata": {},
   "outputs": [
    {
     "data": {
      "text/plain": [
       "array([[1., 1., 1., 1., 1.],\n",
       "       [1., 1., 1., 1., 1.],\n",
       "       [1., 1., 1., 1., 1.],\n",
       "       [1., 1., 1., 1., 1.],\n",
       "       [1., 1., 1., 1., 1.]])"
      ]
     },
     "execution_count": 109,
     "metadata": {},
     "output_type": "execute_result"
    }
   ],
   "source": [
    "a1=np.ones((5,5))\n",
    "a1"
   ]
  },
  {
   "cell_type": "code",
   "execution_count": null,
   "id": "f8992819-2029-4641-ad6f-37f66d367e7f",
   "metadata": {},
   "outputs": [],
   "source": [
    "#Apply blurring filter\n",
    "kernel2=np.ones((5,5),np.float32)/25\n",
    "img=cv2.filter2D(src=image,ddepth=-1,kernel=kernel2)\n",
    "\n",
    "cv2.imshow('Og', image)\n",
    "cv2.imshow('Kernel blur', img)\n",
    "cv2.waitKey()\n",
    "cv2.imwrite('identityblur_kernel.jpg', identity)\n",
    "cv2.destroyAllWindows()"
   ]
  },
  {
   "cell_type": "code",
   "execution_count": null,
   "id": "e162e0a6-d3af-4a31-b01b-b85a60b1b751",
   "metadata": {},
   "outputs": [],
   "source": [
    "b,g,r=cv2.split(image)"
   ]
  },
  {
   "cell_type": "code",
   "execution_count": 112,
   "id": "a4847919-1e20-4f54-ad0e-71ab2830928a",
   "metadata": {},
   "outputs": [
    {
     "data": {
      "text/plain": [
       "array([[208, 210, 212, ..., 222, 222, 220],\n",
       "       [208, 210, 212, ..., 222, 222, 223],\n",
       "       [208, 210, 212, ..., 223, 222, 222],\n",
       "       ...,\n",
       "       [154, 157, 159, ..., 212, 213, 214],\n",
       "       [152, 154, 157, ..., 213, 214, 213],\n",
       "       [150, 153, 155, ..., 213, 214, 214]], dtype=uint8)"
      ]
     },
     "execution_count": 112,
     "metadata": {},
     "output_type": "execute_result"
    }
   ],
   "source": [
    "g"
   ]
  },
  {
   "cell_type": "code",
   "execution_count": null,
   "id": "cf6a2b64-aa2c-4917-8902-79b0e8069412",
   "metadata": {},
   "outputs": [],
   "source": [
    "#20 // 2.3"
   ]
  },
  {
   "cell_type": "code",
   "execution_count": null,
   "id": "2a133661-b8f7-4e0a-9678-ff49e8d4d87a",
   "metadata": {},
   "outputs": [],
   "source": [
    "b =g//2"
   ]
  },
  {
   "cell_type": "code",
   "execution_count": null,
   "id": "3babb834-f2a3-4efb-872b-3acb88248a16",
   "metadata": {},
   "outputs": [],
   "source": [
    "#g"
   ]
  },
  {
   "cell_type": "code",
   "execution_count": 106,
   "id": "fc173b9a-938a-4c1d-80d4-2674b513b8a1",
   "metadata": {},
   "outputs": [],
   "source": [
    "img=cv2.merge((b,g,r))\n",
    "cv2.imshow('OG', img)\n",
    "cv2.waitKey()\n",
    "cv2.destroyAllWindows()\n"
   ]
  },
  {
   "cell_type": "code",
   "execution_count": null,
   "id": "f12f43e6-d5ee-4bd9-b0bd-2b99994b533b",
   "metadata": {},
   "outputs": [],
   "source": []
  },
  {
   "cell_type": "code",
   "execution_count": null,
   "id": "66995c8e-c6b7-4e3c-afad-1758d55178ba",
   "metadata": {},
   "outputs": [],
   "source": []
  },
  {
   "cell_type": "code",
   "execution_count": null,
   "id": "d2d77404-93d8-488d-80e2-0b16c1d01b76",
   "metadata": {},
   "outputs": [],
   "source": []
  },
  {
   "cell_type": "code",
   "execution_count": null,
   "id": "53f956f4-9815-4207-a5ee-a8e63460b72f",
   "metadata": {},
   "outputs": [],
   "source": []
  }
 ],
 "metadata": {
  "kernelspec": {
   "display_name": "Python 3 (ipykernel)",
   "language": "python",
   "name": "python3"
  },
  "language_info": {
   "codemirror_mode": {
    "name": "ipython",
    "version": 3
   },
   "file_extension": ".py",
   "mimetype": "text/x-python",
   "name": "python",
   "nbconvert_exporter": "python",
   "pygments_lexer": "ipython3",
   "version": "3.12.4"
  }
 },
 "nbformat": 4,
 "nbformat_minor": 5
}
