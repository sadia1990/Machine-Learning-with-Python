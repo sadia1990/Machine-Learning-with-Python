{
 "cells": [
  {
   "cell_type": "code",
   "execution_count": 15,
   "id": "b654d07c-2679-4f95-b8ae-7644b688ee1c",
   "metadata": {},
   "outputs": [],
   "source": [
    "import numpy as np\n",
    "import pandas as pd\n",
    "import seaborn as sns"
   ]
  },
  {
   "cell_type": "code",
   "execution_count": 16,
   "id": "a914e7a1-d054-4c51-acde-62d2a447f170",
   "metadata": {},
   "outputs": [],
   "source": [
    "data=pd.read_csv(r\"C:\\Users\\admin\\Downloads\\bank_transactions.csv\")"
   ]
  },
  {
   "cell_type": "code",
   "execution_count": 17,
   "id": "8718b2a1-ad98-4422-baea-cd1640fcd4b6",
   "metadata": {},
   "outputs": [
    {
     "data": {
      "text/plain": [
       "<bound method NDFrame.head of       TransactionID CustomerID CustomerDOB CustGender CustLocation  \\\n",
       "0                T1   C5841053  10-01-1994          F   JAMSHEDPUR   \n",
       "1                T2   C2142763  04-04-1957          M      JHAJJAR   \n",
       "2                T3   C4417068  26-11-1996          F       MUMBAI   \n",
       "3                T4   C5342380  14-09-1973          F       MUMBAI   \n",
       "4                T5   C9031234  24-03-1988          F  NAVI MUMBAI   \n",
       "...             ...        ...         ...        ...          ...   \n",
       "19995        T19996   C2130963  09-08-1989          M       MUMBAI   \n",
       "19996        T19997   C1214583  02-01-1987          M      KOLKATA   \n",
       "19997        T19998   C4739783  11-02-1970          M       MUMBAI   \n",
       "19998        T19999   C4532552  21-02-1993          M        DELHI   \n",
       "19999        T20000   C6936463  27-08-1987          F     VADODARA   \n",
       "\n",
       "       CustAccountBalance TransactionDate  TransactionTime  \\\n",
       "0                17819.05      02-08-2016           143207   \n",
       "1                 2270.69      02-08-2016           141858   \n",
       "2                17874.44      02-08-2016           142712   \n",
       "3               866503.21      02-08-2016           142714   \n",
       "4                 6714.43      02-08-2016           181156   \n",
       "...                   ...             ...              ...   \n",
       "19995             9961.78      23-09-2016           115919   \n",
       "19996             7120.57      23-09-2016           115831   \n",
       "19997           118130.78      23-09-2016           193238   \n",
       "19998            13226.06      23-09-2016           195759   \n",
       "19999           381571.91      23-09-2016           195800   \n",
       "\n",
       "       TransactionAmount (INR)  \n",
       "0                         25.0  \n",
       "1                      27999.0  \n",
       "2                        459.0  \n",
       "3                       2060.0  \n",
       "4                       1762.5  \n",
       "...                        ...  \n",
       "19995                     47.0  \n",
       "19996                    300.0  \n",
       "19997                   3400.0  \n",
       "19998                    500.0  \n",
       "19999                    270.0  \n",
       "\n",
       "[20000 rows x 9 columns]>"
      ]
     },
     "execution_count": 17,
     "metadata": {},
     "output_type": "execute_result"
    }
   ],
   "source": [
    "data.head"
   ]
  },
  {
   "cell_type": "code",
   "execution_count": 18,
   "id": "1e5d9399-8a37-486f-b3f1-7274a7a511a8",
   "metadata": {},
   "outputs": [
    {
     "data": {
      "text/plain": [
       "(20000, 9)"
      ]
     },
     "execution_count": 18,
     "metadata": {},
     "output_type": "execute_result"
    }
   ],
   "source": [
    "data.shape"
   ]
  },
  {
   "cell_type": "code",
   "execution_count": 19,
   "id": "1425b5cc-b3dc-47e2-82ee-3fb026e9a8c7",
   "metadata": {},
   "outputs": [
    {
     "data": {
      "text/plain": [
       "2"
      ]
     },
     "execution_count": 19,
     "metadata": {},
     "output_type": "execute_result"
    }
   ],
   "source": [
    "data.ndim"
   ]
  },
  {
   "cell_type": "code",
   "execution_count": 20,
   "id": "8c2145e4-65bd-4c8f-bd70-7f5f39df037b",
   "metadata": {},
   "outputs": [
    {
     "data": {
      "text/plain": [
       "Index(['TransactionID', 'CustomerID', 'CustomerDOB', 'CustGender',\n",
       "       'CustLocation', 'CustAccountBalance', 'TransactionDate',\n",
       "       'TransactionTime', 'TransactionAmount (INR)'],\n",
       "      dtype='object')"
      ]
     },
     "execution_count": 20,
     "metadata": {},
     "output_type": "execute_result"
    }
   ],
   "source": [
    "data.columns"
   ]
  },
  {
   "cell_type": "code",
   "execution_count": 21,
   "id": "d3246719-1f02-46a2-9179-8a185c265972",
   "metadata": {},
   "outputs": [
    {
     "data": {
      "text/plain": [
       "CustLocation\n",
       "MUMBAI                       1994\n",
       "NEW DELHI                    1628\n",
       "BANGALORE                    1575\n",
       "DELHI                        1371\n",
       "GURGAON                      1363\n",
       "                             ... \n",
       "KARMANGHAT RANGAREDDI           1\n",
       "KARKALA                         1\n",
       "KARJAT RAIGAD                   1\n",
       "KARAMSAD                        1\n",
       "ZONE WHITEFIELD BANGALORE       1\n",
       "Name: count, Length: 1781, dtype: int64"
      ]
     },
     "execution_count": 21,
     "metadata": {},
     "output_type": "execute_result"
    }
   ],
   "source": [
    "data.value_counts(\"CustLocation\")"
   ]
  },
  {
   "cell_type": "code",
   "execution_count": 23,
   "id": "4179cd8f-56ee-4d0d-8097-65f141134728",
   "metadata": {},
   "outputs": [],
   "source": [
    "data=data.drop([\"TransactionID\",\"CustomerDOB\"],axis=1)"
   ]
  },
  {
   "cell_type": "code",
   "execution_count": 24,
   "id": "cf978dd3-2396-4dc4-986e-d43a915f17f6",
   "metadata": {},
   "outputs": [
    {
     "data": {
      "text/html": [
       "<div>\n",
       "<style scoped>\n",
       "    .dataframe tbody tr th:only-of-type {\n",
       "        vertical-align: middle;\n",
       "    }\n",
       "\n",
       "    .dataframe tbody tr th {\n",
       "        vertical-align: top;\n",
       "    }\n",
       "\n",
       "    .dataframe thead th {\n",
       "        text-align: right;\n",
       "    }\n",
       "</style>\n",
       "<table border=\"1\" class=\"dataframe\">\n",
       "  <thead>\n",
       "    <tr style=\"text-align: right;\">\n",
       "      <th></th>\n",
       "      <th>CustomerID</th>\n",
       "      <th>CustGender</th>\n",
       "      <th>CustLocation</th>\n",
       "      <th>CustAccountBalance</th>\n",
       "      <th>TransactionDate</th>\n",
       "      <th>TransactionTime</th>\n",
       "      <th>TransactionAmount (INR)</th>\n",
       "    </tr>\n",
       "  </thead>\n",
       "  <tbody>\n",
       "    <tr>\n",
       "      <th>0</th>\n",
       "      <td>C5841053</td>\n",
       "      <td>F</td>\n",
       "      <td>JAMSHEDPUR</td>\n",
       "      <td>17819.05</td>\n",
       "      <td>02-08-2016</td>\n",
       "      <td>143207</td>\n",
       "      <td>25.0</td>\n",
       "    </tr>\n",
       "    <tr>\n",
       "      <th>1</th>\n",
       "      <td>C2142763</td>\n",
       "      <td>M</td>\n",
       "      <td>JHAJJAR</td>\n",
       "      <td>2270.69</td>\n",
       "      <td>02-08-2016</td>\n",
       "      <td>141858</td>\n",
       "      <td>27999.0</td>\n",
       "    </tr>\n",
       "    <tr>\n",
       "      <th>2</th>\n",
       "      <td>C4417068</td>\n",
       "      <td>F</td>\n",
       "      <td>MUMBAI</td>\n",
       "      <td>17874.44</td>\n",
       "      <td>02-08-2016</td>\n",
       "      <td>142712</td>\n",
       "      <td>459.0</td>\n",
       "    </tr>\n",
       "    <tr>\n",
       "      <th>3</th>\n",
       "      <td>C5342380</td>\n",
       "      <td>F</td>\n",
       "      <td>MUMBAI</td>\n",
       "      <td>866503.21</td>\n",
       "      <td>02-08-2016</td>\n",
       "      <td>142714</td>\n",
       "      <td>2060.0</td>\n",
       "    </tr>\n",
       "    <tr>\n",
       "      <th>4</th>\n",
       "      <td>C9031234</td>\n",
       "      <td>F</td>\n",
       "      <td>NAVI MUMBAI</td>\n",
       "      <td>6714.43</td>\n",
       "      <td>02-08-2016</td>\n",
       "      <td>181156</td>\n",
       "      <td>1762.5</td>\n",
       "    </tr>\n",
       "  </tbody>\n",
       "</table>\n",
       "</div>"
      ],
      "text/plain": [
       "  CustomerID CustGender CustLocation  CustAccountBalance TransactionDate  \\\n",
       "0   C5841053          F   JAMSHEDPUR            17819.05      02-08-2016   \n",
       "1   C2142763          M      JHAJJAR             2270.69      02-08-2016   \n",
       "2   C4417068          F       MUMBAI            17874.44      02-08-2016   \n",
       "3   C5342380          F       MUMBAI           866503.21      02-08-2016   \n",
       "4   C9031234          F  NAVI MUMBAI             6714.43      02-08-2016   \n",
       "\n",
       "   TransactionTime  TransactionAmount (INR)  \n",
       "0           143207                     25.0  \n",
       "1           141858                  27999.0  \n",
       "2           142712                    459.0  \n",
       "3           142714                   2060.0  \n",
       "4           181156                   1762.5  "
      ]
     },
     "execution_count": 24,
     "metadata": {},
     "output_type": "execute_result"
    }
   ],
   "source": [
    "data.head()"
   ]
  },
  {
   "cell_type": "code",
   "execution_count": 25,
   "id": "a80aca64-f570-4add-9446-604972cd2ac6",
   "metadata": {},
   "outputs": [],
   "source": [
    "data['TransactionDate']=pd.to_datetime(data['TransactionDate'],format='%d-%m-%Y')"
   ]
  },
  {
   "cell_type": "code",
   "execution_count": 26,
   "id": "a62bb278-7dc2-4844-bab2-795afadd634d",
   "metadata": {},
   "outputs": [
    {
     "data": {
      "text/html": [
       "<div>\n",
       "<style scoped>\n",
       "    .dataframe tbody tr th:only-of-type {\n",
       "        vertical-align: middle;\n",
       "    }\n",
       "\n",
       "    .dataframe tbody tr th {\n",
       "        vertical-align: top;\n",
       "    }\n",
       "\n",
       "    .dataframe thead th {\n",
       "        text-align: right;\n",
       "    }\n",
       "</style>\n",
       "<table border=\"1\" class=\"dataframe\">\n",
       "  <thead>\n",
       "    <tr style=\"text-align: right;\">\n",
       "      <th></th>\n",
       "      <th>CustomerID</th>\n",
       "      <th>CustGender</th>\n",
       "      <th>CustLocation</th>\n",
       "      <th>CustAccountBalance</th>\n",
       "      <th>TransactionDate</th>\n",
       "      <th>TransactionTime</th>\n",
       "      <th>TransactionAmount (INR)</th>\n",
       "    </tr>\n",
       "  </thead>\n",
       "  <tbody>\n",
       "    <tr>\n",
       "      <th>0</th>\n",
       "      <td>C5841053</td>\n",
       "      <td>F</td>\n",
       "      <td>JAMSHEDPUR</td>\n",
       "      <td>17819.05</td>\n",
       "      <td>2016-08-02</td>\n",
       "      <td>143207</td>\n",
       "      <td>25.0</td>\n",
       "    </tr>\n",
       "    <tr>\n",
       "      <th>1</th>\n",
       "      <td>C2142763</td>\n",
       "      <td>M</td>\n",
       "      <td>JHAJJAR</td>\n",
       "      <td>2270.69</td>\n",
       "      <td>2016-08-02</td>\n",
       "      <td>141858</td>\n",
       "      <td>27999.0</td>\n",
       "    </tr>\n",
       "    <tr>\n",
       "      <th>2</th>\n",
       "      <td>C4417068</td>\n",
       "      <td>F</td>\n",
       "      <td>MUMBAI</td>\n",
       "      <td>17874.44</td>\n",
       "      <td>2016-08-02</td>\n",
       "      <td>142712</td>\n",
       "      <td>459.0</td>\n",
       "    </tr>\n",
       "    <tr>\n",
       "      <th>3</th>\n",
       "      <td>C5342380</td>\n",
       "      <td>F</td>\n",
       "      <td>MUMBAI</td>\n",
       "      <td>866503.21</td>\n",
       "      <td>2016-08-02</td>\n",
       "      <td>142714</td>\n",
       "      <td>2060.0</td>\n",
       "    </tr>\n",
       "    <tr>\n",
       "      <th>4</th>\n",
       "      <td>C9031234</td>\n",
       "      <td>F</td>\n",
       "      <td>NAVI MUMBAI</td>\n",
       "      <td>6714.43</td>\n",
       "      <td>2016-08-02</td>\n",
       "      <td>181156</td>\n",
       "      <td>1762.5</td>\n",
       "    </tr>\n",
       "  </tbody>\n",
       "</table>\n",
       "</div>"
      ],
      "text/plain": [
       "  CustomerID CustGender CustLocation  CustAccountBalance TransactionDate  \\\n",
       "0   C5841053          F   JAMSHEDPUR            17819.05      2016-08-02   \n",
       "1   C2142763          M      JHAJJAR             2270.69      2016-08-02   \n",
       "2   C4417068          F       MUMBAI            17874.44      2016-08-02   \n",
       "3   C5342380          F       MUMBAI           866503.21      2016-08-02   \n",
       "4   C9031234          F  NAVI MUMBAI             6714.43      2016-08-02   \n",
       "\n",
       "   TransactionTime  TransactionAmount (INR)  \n",
       "0           143207                     25.0  \n",
       "1           141858                  27999.0  \n",
       "2           142712                    459.0  \n",
       "3           142714                   2060.0  \n",
       "4           181156                   1762.5  "
      ]
     },
     "execution_count": 26,
     "metadata": {},
     "output_type": "execute_result"
    }
   ],
   "source": [
    "data.head()"
   ]
  },
  {
   "cell_type": "code",
   "execution_count": 27,
   "id": "ab408d33-f47a-476a-b1e5-3b852cf7b884",
   "metadata": {},
   "outputs": [],
   "source": [
    "data.dropna(inplace=True)\n",
    "#drop rows with missing values\n",
    "#inplace= true makes the temporary function permanent"
   ]
  },
  {
   "cell_type": "code",
   "execution_count": 28,
   "id": "cc1777f7-6184-4971-be7b-812f5dedf9a9",
   "metadata": {},
   "outputs": [
    {
     "name": "stdout",
     "output_type": "stream",
     "text": [
      "<class 'pandas.core.frame.DataFrame'>\n",
      "Index: 19961 entries, 0 to 19999\n",
      "Data columns (total 7 columns):\n",
      " #   Column                   Non-Null Count  Dtype         \n",
      "---  ------                   --------------  -----         \n",
      " 0   CustomerID               19961 non-null  object        \n",
      " 1   CustGender               19961 non-null  object        \n",
      " 2   CustLocation             19961 non-null  object        \n",
      " 3   CustAccountBalance       19961 non-null  float64       \n",
      " 4   TransactionDate          19961 non-null  datetime64[ns]\n",
      " 5   TransactionTime          19961 non-null  int64         \n",
      " 6   TransactionAmount (INR)  19961 non-null  float64       \n",
      "dtypes: datetime64[ns](1), float64(2), int64(1), object(3)\n",
      "memory usage: 1.2+ MB\n"
     ]
    }
   ],
   "source": [
    "data.info()"
   ]
  },
  {
   "cell_type": "code",
   "execution_count": 29,
   "id": "c415cb2b-c701-495d-8735-20687247573e",
   "metadata": {},
   "outputs": [
    {
     "data": {
      "text/html": [
       "<div>\n",
       "<style scoped>\n",
       "    .dataframe tbody tr th:only-of-type {\n",
       "        vertical-align: middle;\n",
       "    }\n",
       "\n",
       "    .dataframe tbody tr th {\n",
       "        vertical-align: top;\n",
       "    }\n",
       "\n",
       "    .dataframe thead th {\n",
       "        text-align: right;\n",
       "    }\n",
       "</style>\n",
       "<table border=\"1\" class=\"dataframe\">\n",
       "  <thead>\n",
       "    <tr style=\"text-align: right;\">\n",
       "      <th></th>\n",
       "      <th>CustAccountBalance</th>\n",
       "      <th>TransactionDate</th>\n",
       "      <th>TransactionTime</th>\n",
       "      <th>TransactionAmount (INR)</th>\n",
       "    </tr>\n",
       "  </thead>\n",
       "  <tbody>\n",
       "    <tr>\n",
       "      <th>count</th>\n",
       "      <td>1.996100e+04</td>\n",
       "      <td>19961</td>\n",
       "      <td>19961.000000</td>\n",
       "      <td>19961.000000</td>\n",
       "    </tr>\n",
       "    <tr>\n",
       "      <th>mean</th>\n",
       "      <td>1.210576e+05</td>\n",
       "      <td>2016-09-28 08:35:39.692400128</td>\n",
       "      <td>175408.292721</td>\n",
       "      <td>1720.189670</td>\n",
       "    </tr>\n",
       "    <tr>\n",
       "      <th>min</th>\n",
       "      <td>0.000000e+00</td>\n",
       "      <td>2016-08-01 00:00:00</td>\n",
       "      <td>400.000000</td>\n",
       "      <td>0.000000</td>\n",
       "    </tr>\n",
       "    <tr>\n",
       "      <th>25%</th>\n",
       "      <td>5.522240e+03</td>\n",
       "      <td>2016-09-25 00:00:00</td>\n",
       "      <td>152843.000000</td>\n",
       "      <td>150.000000</td>\n",
       "    </tr>\n",
       "    <tr>\n",
       "      <th>50%</th>\n",
       "      <td>1.925520e+04</td>\n",
       "      <td>2016-09-26 00:00:00</td>\n",
       "      <td>184615.000000</td>\n",
       "      <td>420.000000</td>\n",
       "    </tr>\n",
       "    <tr>\n",
       "      <th>75%</th>\n",
       "      <td>6.471620e+04</td>\n",
       "      <td>2016-09-27 00:00:00</td>\n",
       "      <td>203636.000000</td>\n",
       "      <td>1149.000000</td>\n",
       "    </tr>\n",
       "    <tr>\n",
       "      <th>max</th>\n",
       "      <td>5.099967e+07</td>\n",
       "      <td>2016-10-21 00:00:00</td>\n",
       "      <td>235951.000000</td>\n",
       "      <td>455122.000000</td>\n",
       "    </tr>\n",
       "    <tr>\n",
       "      <th>std</th>\n",
       "      <td>7.260114e+05</td>\n",
       "      <td>NaN</td>\n",
       "      <td>38272.663313</td>\n",
       "      <td>7197.801948</td>\n",
       "    </tr>\n",
       "  </tbody>\n",
       "</table>\n",
       "</div>"
      ],
      "text/plain": [
       "       CustAccountBalance                TransactionDate  TransactionTime  \\\n",
       "count        1.996100e+04                          19961     19961.000000   \n",
       "mean         1.210576e+05  2016-09-28 08:35:39.692400128    175408.292721   \n",
       "min          0.000000e+00            2016-08-01 00:00:00       400.000000   \n",
       "25%          5.522240e+03            2016-09-25 00:00:00    152843.000000   \n",
       "50%          1.925520e+04            2016-09-26 00:00:00    184615.000000   \n",
       "75%          6.471620e+04            2016-09-27 00:00:00    203636.000000   \n",
       "max          5.099967e+07            2016-10-21 00:00:00    235951.000000   \n",
       "std          7.260114e+05                            NaN     38272.663313   \n",
       "\n",
       "       TransactionAmount (INR)  \n",
       "count             19961.000000  \n",
       "mean               1720.189670  \n",
       "min                   0.000000  \n",
       "25%                 150.000000  \n",
       "50%                 420.000000  \n",
       "75%                1149.000000  \n",
       "max              455122.000000  \n",
       "std                7197.801948  "
      ]
     },
     "execution_count": 29,
     "metadata": {},
     "output_type": "execute_result"
    }
   ],
   "source": [
    "data.describe()"
   ]
  },
  {
   "cell_type": "code",
   "execution_count": 56,
   "id": "f054df57-b7ac-4c05-9fac-582bec52924d",
   "metadata": {},
   "outputs": [
    {
     "ename": "TypeError",
     "evalue": "data type 'TransactionAmount (INR)' not understood",
     "output_type": "error",
     "traceback": [
      "\u001b[1;31m---------------------------------------------------------------------------\u001b[0m",
      "\u001b[1;31mTypeError\u001b[0m                                 Traceback (most recent call last)",
      "File \u001b[1;32m~\\anaconda3\\Lib\\site-packages\\pandas\\core\\computation\\common.py:25\u001b[0m, in \u001b[0;36mresult_type_many\u001b[1;34m(*arrays_and_dtypes)\u001b[0m\n\u001b[0;32m     24\u001b[0m \u001b[38;5;28;01mtry\u001b[39;00m:\n\u001b[1;32m---> 25\u001b[0m     \u001b[38;5;28;01mreturn\u001b[39;00m np\u001b[38;5;241m.\u001b[39mresult_type(\u001b[38;5;241m*\u001b[39marrays_and_dtypes)\n\u001b[0;32m     26\u001b[0m \u001b[38;5;28;01mexcept\u001b[39;00m \u001b[38;5;167;01mValueError\u001b[39;00m:\n\u001b[0;32m     27\u001b[0m     \u001b[38;5;66;03m# we have > NPY_MAXARGS terms in our expression\u001b[39;00m\n",
      "\u001b[1;31mTypeError\u001b[0m: data type 'TransactionAmount (INR)' not understood",
      "\nDuring handling of the above exception, another exception occurred:\n",
      "\u001b[1;31mTypeError\u001b[0m                                 Traceback (most recent call last)",
      "Cell \u001b[1;32mIn[56], line 1\u001b[0m\n\u001b[1;32m----> 1\u001b[0m df\u001b[38;5;241m=\u001b[39mdata\u001b[38;5;241m.\u001b[39mquery(\u001b[38;5;124m\"\u001b[39m\u001b[38;5;124m'\u001b[39m\u001b[38;5;124mTransactionAmount (INR)\u001b[39m\u001b[38;5;124m'\u001b[39m\u001b[38;5;124m<=1720\u001b[39m\u001b[38;5;124m\"\u001b[39m)\n\u001b[0;32m      2\u001b[0m df\u001b[38;5;241m.\u001b[39mhead\n",
      "File \u001b[1;32m~\\anaconda3\\Lib\\site-packages\\pandas\\core\\frame.py:4823\u001b[0m, in \u001b[0;36mDataFrame.query\u001b[1;34m(self, expr, inplace, **kwargs)\u001b[0m\n\u001b[0;32m   4821\u001b[0m kwargs[\u001b[38;5;124m\"\u001b[39m\u001b[38;5;124mlevel\u001b[39m\u001b[38;5;124m\"\u001b[39m] \u001b[38;5;241m=\u001b[39m kwargs\u001b[38;5;241m.\u001b[39mpop(\u001b[38;5;124m\"\u001b[39m\u001b[38;5;124mlevel\u001b[39m\u001b[38;5;124m\"\u001b[39m, \u001b[38;5;241m0\u001b[39m) \u001b[38;5;241m+\u001b[39m \u001b[38;5;241m1\u001b[39m\n\u001b[0;32m   4822\u001b[0m kwargs[\u001b[38;5;124m\"\u001b[39m\u001b[38;5;124mtarget\u001b[39m\u001b[38;5;124m\"\u001b[39m] \u001b[38;5;241m=\u001b[39m \u001b[38;5;28;01mNone\u001b[39;00m\n\u001b[1;32m-> 4823\u001b[0m res \u001b[38;5;241m=\u001b[39m \u001b[38;5;28mself\u001b[39m\u001b[38;5;241m.\u001b[39meval(expr, \u001b[38;5;241m*\u001b[39m\u001b[38;5;241m*\u001b[39mkwargs)\n\u001b[0;32m   4825\u001b[0m \u001b[38;5;28;01mtry\u001b[39;00m:\n\u001b[0;32m   4826\u001b[0m     result \u001b[38;5;241m=\u001b[39m \u001b[38;5;28mself\u001b[39m\u001b[38;5;241m.\u001b[39mloc[res]\n",
      "File \u001b[1;32m~\\anaconda3\\Lib\\site-packages\\pandas\\core\\frame.py:4949\u001b[0m, in \u001b[0;36mDataFrame.eval\u001b[1;34m(self, expr, inplace, **kwargs)\u001b[0m\n\u001b[0;32m   4946\u001b[0m     kwargs[\u001b[38;5;124m\"\u001b[39m\u001b[38;5;124mtarget\u001b[39m\u001b[38;5;124m\"\u001b[39m] \u001b[38;5;241m=\u001b[39m \u001b[38;5;28mself\u001b[39m\n\u001b[0;32m   4947\u001b[0m kwargs[\u001b[38;5;124m\"\u001b[39m\u001b[38;5;124mresolvers\u001b[39m\u001b[38;5;124m\"\u001b[39m] \u001b[38;5;241m=\u001b[39m \u001b[38;5;28mtuple\u001b[39m(kwargs\u001b[38;5;241m.\u001b[39mget(\u001b[38;5;124m\"\u001b[39m\u001b[38;5;124mresolvers\u001b[39m\u001b[38;5;124m\"\u001b[39m, ())) \u001b[38;5;241m+\u001b[39m resolvers\n\u001b[1;32m-> 4949\u001b[0m \u001b[38;5;28;01mreturn\u001b[39;00m _eval(expr, inplace\u001b[38;5;241m=\u001b[39minplace, \u001b[38;5;241m*\u001b[39m\u001b[38;5;241m*\u001b[39mkwargs)\n",
      "File \u001b[1;32m~\\anaconda3\\Lib\\site-packages\\pandas\\core\\computation\\eval.py:357\u001b[0m, in \u001b[0;36meval\u001b[1;34m(expr, parser, engine, local_dict, global_dict, resolvers, level, target, inplace)\u001b[0m\n\u001b[0;32m    355\u001b[0m eng \u001b[38;5;241m=\u001b[39m ENGINES[engine]\n\u001b[0;32m    356\u001b[0m eng_inst \u001b[38;5;241m=\u001b[39m eng(parsed_expr)\n\u001b[1;32m--> 357\u001b[0m ret \u001b[38;5;241m=\u001b[39m eng_inst\u001b[38;5;241m.\u001b[39mevaluate()\n\u001b[0;32m    359\u001b[0m \u001b[38;5;28;01mif\u001b[39;00m parsed_expr\u001b[38;5;241m.\u001b[39massigner \u001b[38;5;129;01mis\u001b[39;00m \u001b[38;5;28;01mNone\u001b[39;00m:\n\u001b[0;32m    360\u001b[0m     \u001b[38;5;28;01mif\u001b[39;00m multi_line:\n",
      "File \u001b[1;32m~\\anaconda3\\Lib\\site-packages\\pandas\\core\\computation\\engines.py:78\u001b[0m, in \u001b[0;36mAbstractEngine.evaluate\u001b[1;34m(self)\u001b[0m\n\u001b[0;32m     66\u001b[0m \u001b[38;5;250m\u001b[39m\u001b[38;5;124;03m\"\"\"\u001b[39;00m\n\u001b[0;32m     67\u001b[0m \u001b[38;5;124;03mRun the engine on the expression.\u001b[39;00m\n\u001b[0;32m     68\u001b[0m \n\u001b[1;32m   (...)\u001b[0m\n\u001b[0;32m     75\u001b[0m \u001b[38;5;124;03m    The result of the passed expression.\u001b[39;00m\n\u001b[0;32m     76\u001b[0m \u001b[38;5;124;03m\"\"\"\u001b[39;00m\n\u001b[0;32m     77\u001b[0m \u001b[38;5;28;01mif\u001b[39;00m \u001b[38;5;129;01mnot\u001b[39;00m \u001b[38;5;28mself\u001b[39m\u001b[38;5;241m.\u001b[39m_is_aligned:\n\u001b[1;32m---> 78\u001b[0m     \u001b[38;5;28mself\u001b[39m\u001b[38;5;241m.\u001b[39mresult_type, \u001b[38;5;28mself\u001b[39m\u001b[38;5;241m.\u001b[39maligned_axes \u001b[38;5;241m=\u001b[39m align_terms(\u001b[38;5;28mself\u001b[39m\u001b[38;5;241m.\u001b[39mexpr\u001b[38;5;241m.\u001b[39mterms)\n\u001b[0;32m     80\u001b[0m \u001b[38;5;66;03m# make sure no names in resolvers and locals/globals clash\u001b[39;00m\n\u001b[0;32m     81\u001b[0m res \u001b[38;5;241m=\u001b[39m \u001b[38;5;28mself\u001b[39m\u001b[38;5;241m.\u001b[39m_evaluate()\n",
      "File \u001b[1;32m~\\anaconda3\\Lib\\site-packages\\pandas\\core\\computation\\align.py:161\u001b[0m, in \u001b[0;36malign_terms\u001b[1;34m(terms)\u001b[0m\n\u001b[0;32m    159\u001b[0m \u001b[38;5;66;03m# if all resolved variables are numeric scalars\u001b[39;00m\n\u001b[0;32m    160\u001b[0m \u001b[38;5;28;01mif\u001b[39;00m \u001b[38;5;28mall\u001b[39m(term\u001b[38;5;241m.\u001b[39mis_scalar \u001b[38;5;28;01mfor\u001b[39;00m term \u001b[38;5;129;01min\u001b[39;00m terms):\n\u001b[1;32m--> 161\u001b[0m     \u001b[38;5;28;01mreturn\u001b[39;00m result_type_many(\u001b[38;5;241m*\u001b[39m(term\u001b[38;5;241m.\u001b[39mvalue \u001b[38;5;28;01mfor\u001b[39;00m term \u001b[38;5;129;01min\u001b[39;00m terms))\u001b[38;5;241m.\u001b[39mtype, \u001b[38;5;28;01mNone\u001b[39;00m\n\u001b[0;32m    163\u001b[0m \u001b[38;5;66;03m# perform the main alignment\u001b[39;00m\n\u001b[0;32m    164\u001b[0m typ, axes \u001b[38;5;241m=\u001b[39m _align_core(terms)\n",
      "File \u001b[1;32m~\\anaconda3\\Lib\\site-packages\\pandas\\core\\computation\\common.py:43\u001b[0m, in \u001b[0;36mresult_type_many\u001b[1;34m(*arrays_and_dtypes)\u001b[0m\n\u001b[0;32m     41\u001b[0m \u001b[38;5;28;01mif\u001b[39;00m non_ea_dtypes:\n\u001b[0;32m     42\u001b[0m     \u001b[38;5;28;01mtry\u001b[39;00m:\n\u001b[1;32m---> 43\u001b[0m         np_dtype \u001b[38;5;241m=\u001b[39m np\u001b[38;5;241m.\u001b[39mresult_type(\u001b[38;5;241m*\u001b[39mnon_ea_dtypes)\n\u001b[0;32m     44\u001b[0m     \u001b[38;5;28;01mexcept\u001b[39;00m \u001b[38;5;167;01mValueError\u001b[39;00m:\n\u001b[0;32m     45\u001b[0m         np_dtype \u001b[38;5;241m=\u001b[39m reduce(np\u001b[38;5;241m.\u001b[39mresult_type, arrays_and_dtypes)\n",
      "\u001b[1;31mTypeError\u001b[0m: data type 'TransactionAmount (INR)' not understood"
     ]
    }
   ],
   "source": [
    "df=data.query(\"'TransactionAmount (INR)'<=1720\")\n",
    "df.head"
   ]
  },
  {
   "cell_type": "code",
   "execution_count": 50,
   "id": "ea8438a8-50ab-44f3-b5dd-868422f0c9b0",
   "metadata": {},
   "outputs": [
    {
     "data": {
      "text/plain": [
       "121057.6172040479"
      ]
     },
     "execution_count": 50,
     "metadata": {},
     "output_type": "execute_result"
    }
   ],
   "source": [
    "data['CustAccountBalance'].mean()"
   ]
  },
  {
   "cell_type": "code",
   "execution_count": 61,
   "id": "851aa2bd-b7ee-433f-8bda-d0db7a705210",
   "metadata": {},
   "outputs": [
    {
     "data": {
      "text/plain": [
       "0    100.0\n",
       "Name: TransactionAmount (INR), dtype: float64"
      ]
     },
     "execution_count": 61,
     "metadata": {},
     "output_type": "execute_result"
    }
   ],
   "source": [
    "data['TransactionAmount (INR)'].mode()"
   ]
  },
  {
   "cell_type": "code",
   "execution_count": 68,
   "id": "9c84a84d-7e9c-4b6c-9d07-5de1a4662795",
   "metadata": {},
   "outputs": [],
   "source": [
    "data.rename(columns={\"TransactionAmount (INR)\":\"TransactionAmount\"},inplace= True)"
   ]
  },
  {
   "cell_type": "code",
   "execution_count": 80,
   "id": "931fabab-2627-4bb9-87da-05e6e278a58c",
   "metadata": {},
   "outputs": [
    {
     "data": {
      "text/plain": [
       "18837"
      ]
     },
     "execution_count": 80,
     "metadata": {},
     "output_type": "execute_result"
    }
   ],
   "source": [
    "len(data.query(\"TransactionAmount>0.0 and TransactionAmount<=5000.0\"))"
   ]
  },
  {
   "cell_type": "code",
   "execution_count": null,
   "id": "1a7d1069-e3dd-469f-aa24-38e5228102f5",
   "metadata": {},
   "outputs": [],
   "source": []
  }
 ],
 "metadata": {
  "kernelspec": {
   "display_name": "Python 3 (ipykernel)",
   "language": "python",
   "name": "python3"
  },
  "language_info": {
   "codemirror_mode": {
    "name": "ipython",
    "version": 3
   },
   "file_extension": ".py",
   "mimetype": "text/x-python",
   "name": "python",
   "nbconvert_exporter": "python",
   "pygments_lexer": "ipython3",
   "version": "3.12.4"
  }
 },
 "nbformat": 4,
 "nbformat_minor": 5
}
